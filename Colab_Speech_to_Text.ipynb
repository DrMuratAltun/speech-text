{
  "cells": [
    {
      "cell_type": "markdown",
      "id": "05459414",
      "metadata": {
        "id": "05459414"
      },
      "source": [
        "# Speech to Text"
      ]
    },
    {
      "cell_type": "code",
      "execution_count": null,
      "id": "8252cc85",
      "metadata": {
        "colab": {
          "base_uri": "https://localhost:8080/"
        },
        "id": "8252cc85",
        "outputId": "19871dfa-0fc8-4b22-c9c0-21dc6d5da141"
      },
      "outputs": [
        {
          "output_type": "stream",
          "name": "stdout",
          "text": [
            "Collecting pytube\n",
            "  Downloading pytube-15.0.0-py3-none-any.whl (57 kB)\n",
            "\u001b[?25l     \u001b[90m━━━━━━━━━━━━━━━━━━━━━━━━━━━━━━━━━━━━━━━━\u001b[0m \u001b[32m0.0/57.6 kB\u001b[0m \u001b[31m?\u001b[0m eta \u001b[36m-:--:--\u001b[0m\r\u001b[2K     \u001b[90m━━━━━━━━━━━━━━━━━━━━━━━━━━━━━━━━━━━━━━━━\u001b[0m \u001b[32m57.6/57.6 kB\u001b[0m \u001b[31m1.5 MB/s\u001b[0m eta \u001b[36m0:00:00\u001b[0m\n",
            "\u001b[?25hInstalling collected packages: pytube\n",
            "Successfully installed pytube-15.0.0\n"
          ]
        }
      ],
      "source": [
        "pip install pytube"
      ]
    },
    {
      "cell_type": "code",
      "execution_count": null,
      "id": "18587ec4",
      "metadata": {
        "id": "18587ec4"
      },
      "outputs": [],
      "source": [
        "import pytube"
      ]
    },
    {
      "cell_type": "code",
      "execution_count": null,
      "id": "19c8cdb8",
      "metadata": {
        "id": "19c8cdb8"
      },
      "outputs": [],
      "source": [
        "video='https://www.youtube.com/watch?v=6M5VXKLf4D4'"
      ]
    },
    {
      "cell_type": "code",
      "execution_count": null,
      "id": "989edc2e",
      "metadata": {
        "id": "989edc2e"
      },
      "outputs": [],
      "source": [
        "data=pytube.YouTube(video)"
      ]
    },
    {
      "cell_type": "code",
      "execution_count": null,
      "id": "14d321b8",
      "metadata": {
        "id": "14d321b8"
      },
      "outputs": [],
      "source": [
        "audio=data.streams.get_audio_only()"
      ]
    },
    {
      "cell_type": "code",
      "source": [
        "from google.colab import drive\n",
        "drive.mount('/content/drive')"
      ],
      "metadata": {
        "colab": {
          "base_uri": "https://localhost:8080/"
        },
        "id": "Kwmr0vNOgXFW",
        "outputId": "8594a84d-b38c-4ee7-afa5-cdbe841b4975"
      },
      "id": "Kwmr0vNOgXFW",
      "execution_count": null,
      "outputs": [
        {
          "output_type": "stream",
          "name": "stdout",
          "text": [
            "Drive already mounted at /content/drive; to attempt to forcibly remount, call drive.mount(\"/content/drive\", force_remount=True).\n"
          ]
        }
      ]
    },
    {
      "cell_type": "code",
      "execution_count": null,
      "id": "a102b1b4",
      "metadata": {
        "colab": {
          "base_uri": "https://localhost:8080/",
          "height": 36
        },
        "id": "a102b1b4",
        "outputId": "b0d67721-1223-4849-d846-21f1e890a6fb"
      },
      "outputs": [
        {
          "output_type": "execute_result",
          "data": {
            "text/plain": [
              "'/content/Deep Learning  What is Deep Learning  Deep Learning Tutorial For Beginners  2023  Simplilearn.mp4'"
            ],
            "application/vnd.google.colaboratory.intrinsic+json": {
              "type": "string"
            }
          },
          "metadata": {},
          "execution_count": 18
        }
      ],
      "source": [
        "audio.download()"
      ]
    },
    {
      "cell_type": "code",
      "execution_count": null,
      "id": "e8a88021",
      "metadata": {
        "colab": {
          "base_uri": "https://localhost:8080/"
        },
        "id": "e8a88021",
        "outputId": "9467ee1d-64b0-4337-c46e-6cd6deaa91ad"
      },
      "outputs": [
        {
          "output_type": "stream",
          "name": "stdout",
          "text": [
            "/content\n"
          ]
        }
      ],
      "source": [
        "!pwd"
      ]
    },
    {
      "cell_type": "code",
      "execution_count": null,
      "id": "755b93fe",
      "metadata": {
        "colab": {
          "base_uri": "https://localhost:8080/"
        },
        "id": "755b93fe",
        "outputId": "9cc6ec79-2911-48fa-fda8-f619c7face2e"
      },
      "outputs": [
        {
          "output_type": "stream",
          "name": "stdout",
          "text": [
            "  Installing build dependencies ... \u001b[?25l\u001b[?25hdone\n",
            "  Getting requirements to build wheel ... \u001b[?25l\u001b[?25hdone\n",
            "  Preparing metadata (pyproject.toml) ... \u001b[?25l\u001b[?25hdone\n",
            "\u001b[2K     \u001b[90m━━━━━━━━━━━━━━━━━━━━━━━━━━━━━━━━━━━━━━━━\u001b[0m \u001b[32m1.8/1.8 MB\u001b[0m \u001b[31m10.8 MB/s\u001b[0m eta \u001b[36m0:00:00\u001b[0m\n",
            "\u001b[2K     \u001b[90m━━━━━━━━━━━━━━━━━━━━━━━━━━━━━━━━━━━━━━━━\u001b[0m \u001b[32m23.7/23.7 MB\u001b[0m \u001b[31m40.5 MB/s\u001b[0m eta \u001b[36m0:00:00\u001b[0m\n",
            "\u001b[2K     \u001b[90m━━━━━━━━━━━━━━━━━━━━━━━━━━━━━━━━━━━━━━━━\u001b[0m \u001b[32m823.6/823.6 kB\u001b[0m \u001b[31m41.1 MB/s\u001b[0m eta \u001b[36m0:00:00\u001b[0m\n",
            "\u001b[2K     \u001b[90m━━━━━━━━━━━━━━━━━━━━━━━━━━━━━━━━━━━━━━━━\u001b[0m \u001b[32m14.1/14.1 MB\u001b[0m \u001b[31m57.2 MB/s\u001b[0m eta \u001b[36m0:00:00\u001b[0m\n",
            "\u001b[2K     \u001b[90m━━━━━━━━━━━━━━━━━━━━━━━━━━━━━━━━━━━━━━━━\u001b[0m \u001b[32m731.7/731.7 MB\u001b[0m \u001b[31m2.0 MB/s\u001b[0m eta \u001b[36m0:00:00\u001b[0m\n",
            "\u001b[2K     \u001b[90m━━━━━━━━━━━━━━━━━━━━━━━━━━━━━━━━━━━━━━━━\u001b[0m \u001b[32m410.6/410.6 MB\u001b[0m \u001b[31m3.2 MB/s\u001b[0m eta \u001b[36m0:00:00\u001b[0m\n",
            "\u001b[2K     \u001b[90m━━━━━━━━━━━━━━━━━━━━━━━━━━━━━━━━━━━━━━━━\u001b[0m \u001b[32m121.6/121.6 MB\u001b[0m \u001b[31m6.8 MB/s\u001b[0m eta \u001b[36m0:00:00\u001b[0m\n",
            "\u001b[2K     \u001b[90m━━━━━━━━━━━━━━━━━━━━━━━━━━━━━━━━━━━━━━━━\u001b[0m \u001b[32m56.5/56.5 MB\u001b[0m \u001b[31m9.6 MB/s\u001b[0m eta \u001b[36m0:00:00\u001b[0m\n",
            "\u001b[2K     \u001b[90m━━━━━━━━━━━━━━━━━━━━━━━━━━━━━━━━━━━━━━━━\u001b[0m \u001b[32m124.2/124.2 MB\u001b[0m \u001b[31m8.1 MB/s\u001b[0m eta \u001b[36m0:00:00\u001b[0m\n",
            "\u001b[2K     \u001b[90m━━━━━━━━━━━━━━━━━━━━━━━━━━━━━━━━━━━━━━━━\u001b[0m \u001b[32m196.0/196.0 MB\u001b[0m \u001b[31m2.3 MB/s\u001b[0m eta \u001b[36m0:00:00\u001b[0m\n",
            "\u001b[2K     \u001b[90m━━━━━━━━━━━━━━━━━━━━━━━━━━━━━━━━━━━━━━━━\u001b[0m \u001b[32m166.0/166.0 MB\u001b[0m \u001b[31m5.9 MB/s\u001b[0m eta \u001b[36m0:00:00\u001b[0m\n",
            "\u001b[2K     \u001b[90m━━━━━━━━━━━━━━━━━━━━━━━━━━━━━━━━━━━━━━━━\u001b[0m \u001b[32m99.1/99.1 kB\u001b[0m \u001b[31m11.9 MB/s\u001b[0m eta \u001b[36m0:00:00\u001b[0m\n",
            "\u001b[2K     \u001b[90m━━━━━━━━━━━━━━━━━━━━━━━━━━━━━━━━━━━━━━━━\u001b[0m \u001b[32m21.1/21.1 MB\u001b[0m \u001b[31m64.6 MB/s\u001b[0m eta \u001b[36m0:00:00\u001b[0m\n",
            "\u001b[?25h  Building wheel for openai-whisper (pyproject.toml) ... \u001b[?25l\u001b[?25hdone\n"
          ]
        }
      ],
      "source": [
        "!pip install git+https://github.com/openai/whisper.git -q"
      ]
    },
    {
      "cell_type": "code",
      "execution_count": null,
      "id": "5caa1f69",
      "metadata": {
        "id": "5caa1f69"
      },
      "outputs": [],
      "source": [
        "import whisper"
      ]
    },
    {
      "cell_type": "code",
      "execution_count": null,
      "id": "65f6fac3",
      "metadata": {
        "colab": {
          "base_uri": "https://localhost:8080/"
        },
        "id": "65f6fac3",
        "outputId": "94ebb7a9-af59-4dfa-91f9-3e17f0a605cf"
      },
      "outputs": [
        {
          "output_type": "stream",
          "name": "stderr",
          "text": [
            "100%|█████████████████████████████████████| 2.88G/2.88G [01:19<00:00, 38.6MiB/s]\n"
          ]
        }
      ],
      "source": [
        "model=whisper.load_model('large')"
      ]
    },
    {
      "cell_type": "code",
      "execution_count": null,
      "id": "45029cb4",
      "metadata": {
        "colab": {
          "base_uri": "https://localhost:8080/"
        },
        "id": "45029cb4",
        "outputId": "1c7490dc-8537-4372-be52-ec6591956cad"
      },
      "outputs": [
        {
          "metadata": {
            "tags": null
          },
          "name": "stderr",
          "output_type": "stream",
          "text": [
            "/usr/local/lib/python3.10/dist-packages/whisper/transcribe.py:126: UserWarning: FP16 is not supported on CPU; using FP32 instead\n",
            "  warnings.warn(\"FP16 is not supported on CPU; using FP32 instead\")\n"
          ]
        }
      ],
      "source": [
        "text=model.transcribe('/content/Deep Learning  What is Deep Learning  Deep Learning Tutorial For Beginners  2023  Simplilearn.mp4')"
      ]
    },
    {
      "cell_type": "code",
      "execution_count": null,
      "id": "b2fbf8d1",
      "metadata": {
        "colab": {
          "base_uri": "https://localhost:8080/"
        },
        "id": "b2fbf8d1",
        "outputId": "c37d22f0-8adc-4573-e8a2-b25b3f027ecc"
      },
      "outputs": [
        {
          "output_type": "stream",
          "name": "stdout",
          "text": [
            "{'text': \" Ever wondered how Google translates an entire web page to a different language in a matter of seconds? Or your phone gallery groups images based on their location? All of this is a product of deep learning. But, what exactly is deep learning? Deep learning is a subset of machine learning, which in turn is a subset of artificial intelligence. Artificial intelligence is a technique that enables a machine to mimic human behavior. Machine learning is a technique to achieve AI through algorithms trained with data. And, finally, deep learning is a type of machine learning inspired by the structure of the human brain. In terms of deep learning, this structure is called an artificial neural network. Let's understand deep learning better and how it's different from machine learning. Say we create a machine that could differentiate between tomatoes and cherries. If done using machine learning, we'd have to tell the machine the features based on the structure of the human brain. Based on which the two can be differentiated. These features could be the size and the type of stem on them. With deep learning, on the other hand, the features are picked out by the neural network without human intervention. Of course, that kind of independence comes at the cost of having a much higher volume of data to train our machine. Now, let's dive into the working of neural networks. Here, we have three students. Each of them write down the digit 9 on a piece of paper. Notably, they don't all write it identically. The human brain can easily recognize the digits. But, what if a computer had to recognize them? That's where deep learning comes in. Here's a neural network trained to identify handwritten digits. Each number is present as an image of 28 times 28 pixels. Now, that amounts to a total of 784 pixels. Neurons, the core entity of a neural network, is where the information processing takes place. Each of the 784 pixels is fed to a neuron in the first layer of our neural network. This forms the input layer. On the other end, we have the output layer with each neuron representing a digit with the hidden layers existing between them. The information is transferred from one layer to another over connecting channels. Each of these has a value attached to it and hence is called a weighted channel. All neurons have a unique number associated with it. Called bias. This bias is added to the weighted sum of inputs reaching the neuron. Which is then applied to a function known as the activation function. The result of the activation function determines if the neuron gets activated. Every activated neuron passes on information to the following layers. This continues up till the second last layer. The one neuron activated in the output layer corresponds to the input digit. The weights and bias are continuously adjusted to produce a well-trained network. So, where is deep learning applied? In customer support. When most people converse with customer support agents, the conversation seems so real, they don't even realize that it's actually a bot on the other side. In medical care, neural networks detect cancer cells and analyze MRI images to give detailed results. Self-driving cars. What seemed like science fiction, is now real. Apple, Tesla, and Nissan are only a few of the companies working on self-driving cars. So, deep learning has a vast scope. But it too faces some limitations. The first, as we discussed earlier, is data. While deep learning is the most efficient way to deal with unstructured data, a neural network requires a massive volume of data to train. Let's assume we always have access to the necessary amount of data. Processing this is not within the capability of every machine. And that brings us to our second limitation. Computational power. Training a neural network requires graphical processing units, which have thousands of cores, as compared to CPUs. And GPUs are, of course, more expensive. And finally, we come down to training time. Deep neural networks take hours or even months to train. The time increases with the amount of data, and number of layers in the network. So, here's a short quiz for you. Arrange the following statements in order to describe the working of a neural network. A. The bias is added. B. The weighted sum of the inputs is calculated. C. Specific neuron is activated. D. The result is fed to an activation function. Leave your answers in the comment section below. Three of you stand a chance to win Amazon vouchers. So hurry! Some of the popular deep learning frameworks include TensorFlow, PyTorch, Keras, Deep Learning 4J, Cafe, and Microsoft Cognitive Toolkit. Considering the future predictions for deep learning and AI, we seem to have only scratched the surface. In fact, Horace Technology is working on a device for the blind that uses deep learning with computer vision to describe the world to the users. Replicating the human mind at the entirety may be not just an episode, but a whole new world of science fiction. The future is indeed full of surprises. And that is deep learning for you in short. If you enjoyed this video, do like and share it. Also, subscribe to our channel if you haven't yet, as we have a lot more exciting videos coming up. Fun learning till then!\", 'segments': [{'id': 0, 'seek': 0, 'start': 0.0, 'end': 5.68, 'text': ' Ever wondered how Google translates an entire web page to a different language in a matter of seconds?', 'tokens': [50365, 12123, 17055, 577, 3329, 28468, 364, 2302, 3670, 3028, 281, 257, 819, 2856, 294, 257, 1871, 295, 3949, 30, 50649], 'temperature': 0.0, 'avg_logprob': -0.13785975178082785, 'compression_ratio': 1.7269076305220883, 'no_speech_prob': 0.004722489509731531}, {'id': 1, 'seek': 0, 'start': 6.0, 'end': 9.44, 'text': ' Or your phone gallery groups images based on their location?', 'tokens': [50665, 1610, 428, 2593, 18378, 3935, 5267, 2361, 322, 641, 4914, 30, 50837], 'temperature': 0.0, 'avg_logprob': -0.13785975178082785, 'compression_ratio': 1.7269076305220883, 'no_speech_prob': 0.004722489509731531}, {'id': 2, 'seek': 0, 'start': 9.86, 'end': 12.14, 'text': ' All of this is a product of deep learning.', 'tokens': [50858, 1057, 295, 341, 307, 257, 1674, 295, 2452, 2539, 13, 50972], 'temperature': 0.0, 'avg_logprob': -0.13785975178082785, 'compression_ratio': 1.7269076305220883, 'no_speech_prob': 0.004722489509731531}, {'id': 3, 'seek': 0, 'start': 12.620000000000001, 'end': 15.040000000000001, 'text': ' But, what exactly is deep learning?', 'tokens': [50996, 583, 11, 437, 2293, 307, 2452, 2539, 30, 51117], 'temperature': 0.0, 'avg_logprob': -0.13785975178082785, 'compression_ratio': 1.7269076305220883, 'no_speech_prob': 0.004722489509731531}, {'id': 4, 'seek': 0, 'start': 15.48, 'end': 21.02, 'text': ' Deep learning is a subset of machine learning, which in turn is a subset of artificial intelligence.', 'tokens': [51139, 14895, 2539, 307, 257, 25993, 295, 3479, 2539, 11, 597, 294, 1261, 307, 257, 25993, 295, 11677, 7599, 13, 51416], 'temperature': 0.0, 'avg_logprob': -0.13785975178082785, 'compression_ratio': 1.7269076305220883, 'no_speech_prob': 0.004722489509731531}, {'id': 5, 'seek': 0, 'start': 21.36, 'end': 26.18, 'text': ' Artificial intelligence is a technique that enables a machine to mimic human behavior.', 'tokens': [51433, 5735, 10371, 7599, 307, 257, 6532, 300, 17077, 257, 3479, 281, 31075, 1952, 5223, 13, 51674], 'temperature': 0.0, 'avg_logprob': -0.13785975178082785, 'compression_ratio': 1.7269076305220883, 'no_speech_prob': 0.004722489509731531}, {'id': 6, 'seek': 2618, 'start': 26.18, 'end': 31.42, 'text': ' Machine learning is a technique to achieve AI through algorithms trained with data.', 'tokens': [50365, 22155, 2539, 307, 257, 6532, 281, 4584, 7318, 807, 14642, 8895, 365, 1412, 13, 50627], 'temperature': 0.0, 'avg_logprob': -0.12688729763031006, 'compression_ratio': 1.9539007092198581, 'no_speech_prob': 0.00022907058882992715}, {'id': 7, 'seek': 2618, 'start': 31.84, 'end': 37.66, 'text': ' And, finally, deep learning is a type of machine learning inspired by the structure of the human brain.', 'tokens': [50648, 400, 11, 2721, 11, 2452, 2539, 307, 257, 2010, 295, 3479, 2539, 7547, 538, 264, 3877, 295, 264, 1952, 3567, 13, 50939], 'temperature': 0.0, 'avg_logprob': -0.12688729763031006, 'compression_ratio': 1.9539007092198581, 'no_speech_prob': 0.00022907058882992715}, {'id': 8, 'seek': 2618, 'start': 38.019999999999996, 'end': 42.620000000000005, 'text': ' In terms of deep learning, this structure is called an artificial neural network.', 'tokens': [50957, 682, 2115, 295, 2452, 2539, 11, 341, 3877, 307, 1219, 364, 11677, 18161, 3209, 13, 51187], 'temperature': 0.0, 'avg_logprob': -0.12688729763031006, 'compression_ratio': 1.9539007092198581, 'no_speech_prob': 0.00022907058882992715}, {'id': 9, 'seek': 2618, 'start': 43.0, 'end': 47.04, 'text': \" Let's understand deep learning better and how it's different from machine learning.\", 'tokens': [51206, 961, 311, 1223, 2452, 2539, 1101, 293, 577, 309, 311, 819, 490, 3479, 2539, 13, 51408], 'temperature': 0.0, 'avg_logprob': -0.12688729763031006, 'compression_ratio': 1.9539007092198581, 'no_speech_prob': 0.00022907058882992715}, {'id': 10, 'seek': 2618, 'start': 47.4, 'end': 51.620000000000005, 'text': ' Say we create a machine that could differentiate between tomatoes and cherries.', 'tokens': [51426, 6463, 321, 1884, 257, 3479, 300, 727, 23203, 1296, 15135, 293, 12085, 2244, 13, 51637], 'temperature': 0.0, 'avg_logprob': -0.12688729763031006, 'compression_ratio': 1.9539007092198581, 'no_speech_prob': 0.00022907058882992715}, {'id': 11, 'seek': 2618, 'start': 51.620000000000005, 'end': 53.5, 'text': ' If done using machine learning,', 'tokens': [51637, 759, 1096, 1228, 3479, 2539, 11, 51731], 'temperature': 0.0, 'avg_logprob': -0.12688729763031006, 'compression_ratio': 1.9539007092198581, 'no_speech_prob': 0.00022907058882992715}, {'id': 12, 'seek': 2618, 'start': 53.92, 'end': 55.68, 'text': \" we'd have to tell the machine the features\", 'tokens': [51752, 321, 1116, 362, 281, 980, 264, 3479, 264, 4122, 51840], 'temperature': 0.0, 'avg_logprob': -0.12688729763031006, 'compression_ratio': 1.9539007092198581, 'no_speech_prob': 0.00022907058882992715}, {'id': 13, 'seek': 2618, 'start': 55.68, 'end': 56.16, 'text': ' based on the structure of the human brain.', 'tokens': [51840, 2361, 322, 264, 3877, 295, 264, 1952, 3567, 13, 51864], 'temperature': 0.0, 'avg_logprob': -0.12688729763031006, 'compression_ratio': 1.9539007092198581, 'no_speech_prob': 0.00022907058882992715}, {'id': 14, 'seek': 5618, 'start': 56.18, 'end': 58.38, 'text': ' Based on which the two can be differentiated.', 'tokens': [50365, 18785, 322, 597, 264, 732, 393, 312, 27372, 770, 13, 50475], 'temperature': 0.0, 'avg_logprob': -0.23934057023790148, 'compression_ratio': 1.6442953020134228, 'no_speech_prob': 0.0029321692418307066}, {'id': 15, 'seek': 5618, 'start': 58.68, 'end': 62.12, 'text': ' These features could be the size and the type of stem on them.', 'tokens': [50490, 1981, 4122, 727, 312, 264, 2744, 293, 264, 2010, 295, 12312, 322, 552, 13, 50662], 'temperature': 0.0, 'avg_logprob': -0.23934057023790148, 'compression_ratio': 1.6442953020134228, 'no_speech_prob': 0.0029321692418307066}, {'id': 16, 'seek': 5618, 'start': 62.42, 'end': 64.18, 'text': ' With deep learning, on the other hand,', 'tokens': [50677, 2022, 2452, 2539, 11, 322, 264, 661, 1011, 11, 50765], 'temperature': 0.0, 'avg_logprob': -0.23934057023790148, 'compression_ratio': 1.6442953020134228, 'no_speech_prob': 0.0029321692418307066}, {'id': 17, 'seek': 5618, 'start': 64.36, 'end': 68.56, 'text': ' the features are picked out by the neural network without human intervention.', 'tokens': [50774, 264, 4122, 366, 6183, 484, 538, 264, 18161, 3209, 1553, 1952, 13176, 13, 50984], 'temperature': 0.0, 'avg_logprob': -0.23934057023790148, 'compression_ratio': 1.6442953020134228, 'no_speech_prob': 0.0029321692418307066}, {'id': 18, 'seek': 5618, 'start': 68.8, 'end': 75.02, 'text': ' Of course, that kind of independence comes at the cost of having a much higher volume of data to train our machine.', 'tokens': [50996, 2720, 1164, 11, 300, 733, 295, 14640, 1487, 412, 264, 2063, 295, 1419, 257, 709, 2946, 5523, 295, 1412, 281, 3847, 527, 3479, 13, 51307], 'temperature': 0.0, 'avg_logprob': -0.23934057023790148, 'compression_ratio': 1.6442953020134228, 'no_speech_prob': 0.0029321692418307066}, {'id': 19, 'seek': 5618, 'start': 75.53999999999999, 'end': 78.84, 'text': \" Now, let's dive into the working of neural networks.\", 'tokens': [51333, 823, 11, 718, 311, 9192, 666, 264, 1364, 295, 18161, 9590, 13, 51498], 'temperature': 0.0, 'avg_logprob': -0.23934057023790148, 'compression_ratio': 1.6442953020134228, 'no_speech_prob': 0.0029321692418307066}, {'id': 20, 'seek': 5618, 'start': 79.36, 'end': 81.06, 'text': ' Here, we have three students.', 'tokens': [51524, 1692, 11, 321, 362, 1045, 1731, 13, 51609], 'temperature': 0.0, 'avg_logprob': -0.23934057023790148, 'compression_ratio': 1.6442953020134228, 'no_speech_prob': 0.0029321692418307066}, {'id': 21, 'seek': 5618, 'start': 81.26, 'end': 84.46000000000001, 'text': ' Each of them write down the digit 9 on a piece of paper.', 'tokens': [51619, 6947, 295, 552, 2464, 760, 264, 14293, 1722, 322, 257, 2522, 295, 3035, 13, 51779], 'temperature': 0.0, 'avg_logprob': -0.23934057023790148, 'compression_ratio': 1.6442953020134228, 'no_speech_prob': 0.0029321692418307066}, {'id': 22, 'seek': 5618, 'start': 84.94, 'end': 85.64, 'text': ' Notably,', 'tokens': [51803, 1726, 1188, 11, 51838], 'temperature': 0.0, 'avg_logprob': -0.23934057023790148, 'compression_ratio': 1.6442953020134228, 'no_speech_prob': 0.0029321692418307066}, {'id': 23, 'seek': 8564, 'start': 85.64, 'end': 87.64, 'text': \" they don't all write it identically.\", 'tokens': [50365, 436, 500, 380, 439, 2464, 309, 2473, 984, 13, 50465], 'temperature': 0.0, 'avg_logprob': -0.311206007425764, 'compression_ratio': 1.6044776119402986, 'no_speech_prob': 0.002033315831795335}, {'id': 24, 'seek': 8564, 'start': 87.64, 'end': 90.88, 'text': ' The human brain can easily recognize the digits.', 'tokens': [50465, 440, 1952, 3567, 393, 3612, 5521, 264, 27011, 13, 50627], 'temperature': 0.0, 'avg_logprob': -0.311206007425764, 'compression_ratio': 1.6044776119402986, 'no_speech_prob': 0.002033315831795335}, {'id': 25, 'seek': 8564, 'start': 90.88, 'end': 94.14, 'text': ' But, what if a computer had to recognize them?', 'tokens': [50627, 583, 11, 437, 498, 257, 3820, 632, 281, 5521, 552, 30, 50790], 'temperature': 0.0, 'avg_logprob': -0.311206007425764, 'compression_ratio': 1.6044776119402986, 'no_speech_prob': 0.002033315831795335}, {'id': 26, 'seek': 8564, 'start': 94.14, 'end': 96.76, 'text': \" That's where deep learning comes in.\", 'tokens': [50790, 663, 311, 689, 2452, 2539, 1487, 294, 13, 50921], 'temperature': 0.0, 'avg_logprob': -0.311206007425764, 'compression_ratio': 1.6044776119402986, 'no_speech_prob': 0.002033315831795335}, {'id': 27, 'seek': 8564, 'start': 96.76, 'end': 100.76, 'text': \" Here's a neural network trained to identify handwritten digits.\", 'tokens': [50921, 1692, 311, 257, 18161, 3209, 8895, 281, 5876, 1011, 26859, 27011, 13, 51121], 'temperature': 0.0, 'avg_logprob': -0.311206007425764, 'compression_ratio': 1.6044776119402986, 'no_speech_prob': 0.002033315831795335}, {'id': 28, 'seek': 8564, 'start': 100.76, 'end': 105.3, 'text': ' Each number is present as an image of 28 times 28 pixels.', 'tokens': [51121, 6947, 1230, 307, 1974, 382, 364, 3256, 295, 7562, 1413, 7562, 18668, 13, 51348], 'temperature': 0.0, 'avg_logprob': -0.311206007425764, 'compression_ratio': 1.6044776119402986, 'no_speech_prob': 0.002033315831795335}, {'id': 29, 'seek': 8564, 'start': 105.3, 'end': 109.64, 'text': ' Now, that amounts to a total of 784 pixels.', 'tokens': [51348, 823, 11, 300, 11663, 281, 257, 3217, 295, 1614, 25494, 18668, 13, 51565], 'temperature': 0.0, 'avg_logprob': -0.311206007425764, 'compression_ratio': 1.6044776119402986, 'no_speech_prob': 0.002033315831795335}, {'id': 30, 'seek': 8564, 'start': 109.64, 'end': 112.88, 'text': ' Neurons, the core entity of a neural network,', 'tokens': [51565, 1734, 374, 892, 11, 264, 4965, 13977, 295, 257, 18161, 3209, 11, 51727], 'temperature': 0.0, 'avg_logprob': -0.311206007425764, 'compression_ratio': 1.6044776119402986, 'no_speech_prob': 0.002033315831795335}, {'id': 31, 'seek': 8564, 'start': 112.88, 'end': 115.6, 'text': ' is where the information processing takes place.', 'tokens': [51727, 307, 689, 264, 1589, 9007, 2516, 1081, 13, 51863], 'temperature': 0.0, 'avg_logprob': -0.311206007425764, 'compression_ratio': 1.6044776119402986, 'no_speech_prob': 0.002033315831795335}, {'id': 32, 'seek': 11564, 'start': 115.64, 'end': 121.68, 'text': ' Each of the 784 pixels is fed to a neuron in the first layer of our neural network.', 'tokens': [50365, 6947, 295, 264, 1614, 25494, 18668, 307, 4636, 281, 257, 34090, 294, 264, 700, 4583, 295, 527, 18161, 3209, 13, 50667], 'temperature': 0.0, 'avg_logprob': -0.22790895850913037, 'compression_ratio': 1.7234848484848484, 'no_speech_prob': 0.08759298175573349}, {'id': 33, 'seek': 11564, 'start': 122.0, 'end': 124.44, 'text': ' This forms the input layer.', 'tokens': [50683, 639, 6422, 264, 4846, 4583, 13, 50805], 'temperature': 0.0, 'avg_logprob': -0.22790895850913037, 'compression_ratio': 1.7234848484848484, 'no_speech_prob': 0.08759298175573349}, {'id': 34, 'seek': 11564, 'start': 124.44, 'end': 131.82, 'text': ' On the other end, we have the output layer with each neuron representing a digit with the hidden layers existing between them.', 'tokens': [50805, 1282, 264, 661, 917, 11, 321, 362, 264, 5598, 4583, 365, 1184, 34090, 13460, 257, 14293, 365, 264, 7633, 7914, 6741, 1296, 552, 13, 51174], 'temperature': 0.0, 'avg_logprob': -0.22790895850913037, 'compression_ratio': 1.7234848484848484, 'no_speech_prob': 0.08759298175573349}, {'id': 35, 'seek': 11564, 'start': 132.08, 'end': 136.9, 'text': ' The information is transferred from one layer to another over connecting channels.', 'tokens': [51187, 440, 1589, 307, 15809, 490, 472, 4583, 281, 1071, 670, 11015, 9235, 13, 51428], 'temperature': 0.0, 'avg_logprob': -0.22790895850913037, 'compression_ratio': 1.7234848484848484, 'no_speech_prob': 0.08759298175573349}, {'id': 36, 'seek': 11564, 'start': 137.12, 'end': 142.12, 'text': ' Each of these has a value attached to it and hence is called a weighted channel.', 'tokens': [51439, 6947, 295, 613, 575, 257, 2158, 8570, 281, 309, 293, 16678, 307, 1219, 257, 32807, 2269, 13, 51689], 'temperature': 0.0, 'avg_logprob': -0.22790895850913037, 'compression_ratio': 1.7234848484848484, 'no_speech_prob': 0.08759298175573349}, {'id': 37, 'seek': 11564, 'start': 142.12, 'end': 145.54, 'text': ' All neurons have a unique number associated with it.', 'tokens': [51689, 1057, 22027, 362, 257, 3845, 1230, 6615, 365, 309, 13, 51860], 'temperature': 0.0, 'avg_logprob': -0.22790895850913037, 'compression_ratio': 1.7234848484848484, 'no_speech_prob': 0.08759298175573349}, {'id': 38, 'seek': 14564, 'start': 145.64, 'end': 146.83999999999997, 'text': ' Called bias.', 'tokens': [50365, 45001, 12577, 13, 50425], 'temperature': 0.0, 'avg_logprob': -0.24673945929414481, 'compression_ratio': 1.8761061946902655, 'no_speech_prob': 0.0030804092530161142}, {'id': 39, 'seek': 14564, 'start': 146.83999999999997, 'end': 151.64, 'text': ' This bias is added to the weighted sum of inputs reaching the neuron.', 'tokens': [50425, 639, 12577, 307, 3869, 281, 264, 32807, 2408, 295, 15743, 9906, 264, 34090, 13, 50665], 'temperature': 0.0, 'avg_logprob': -0.24673945929414481, 'compression_ratio': 1.8761061946902655, 'no_speech_prob': 0.0030804092530161142}, {'id': 40, 'seek': 14564, 'start': 151.64, 'end': 156.64, 'text': ' Which is then applied to a function known as the activation function.', 'tokens': [50665, 3013, 307, 550, 6456, 281, 257, 2445, 2570, 382, 264, 24433, 2445, 13, 50915], 'temperature': 0.0, 'avg_logprob': -0.24673945929414481, 'compression_ratio': 1.8761061946902655, 'no_speech_prob': 0.0030804092530161142}, {'id': 41, 'seek': 14564, 'start': 156.64, 'end': 161.64, 'text': ' The result of the activation function determines if the neuron gets activated.', 'tokens': [50915, 440, 1874, 295, 264, 24433, 2445, 24799, 498, 264, 34090, 2170, 18157, 13, 51165], 'temperature': 0.0, 'avg_logprob': -0.24673945929414481, 'compression_ratio': 1.8761061946902655, 'no_speech_prob': 0.0030804092530161142}, {'id': 42, 'seek': 14564, 'start': 161.64, 'end': 166.64, 'text': ' Every activated neuron passes on information to the following layers.', 'tokens': [51165, 2048, 18157, 34090, 11335, 322, 1589, 281, 264, 3480, 7914, 13, 51415], 'temperature': 0.0, 'avg_logprob': -0.24673945929414481, 'compression_ratio': 1.8761061946902655, 'no_speech_prob': 0.0030804092530161142}, {'id': 43, 'seek': 14564, 'start': 166.64, 'end': 169.64, 'text': ' This continues up till the second last layer.', 'tokens': [51415, 639, 6515, 493, 4288, 264, 1150, 1036, 4583, 13, 51565], 'temperature': 0.0, 'avg_logprob': -0.24673945929414481, 'compression_ratio': 1.8761061946902655, 'no_speech_prob': 0.0030804092530161142}, {'id': 44, 'seek': 14564, 'start': 169.64, 'end': 175.2, 'text': ' The one neuron activated in the output layer corresponds to the input digit.', 'tokens': [51565, 440, 472, 34090, 18157, 294, 264, 5598, 4583, 23249, 281, 264, 4846, 14293, 13, 51843], 'temperature': 0.0, 'avg_logprob': -0.24673945929414481, 'compression_ratio': 1.8761061946902655, 'no_speech_prob': 0.0030804092530161142}, {'id': 45, 'seek': 17520, 'start': 175.2, 'end': 180.2, 'text': ' The weights and bias are continuously adjusted to produce a well-trained network.', 'tokens': [50365, 440, 17443, 293, 12577, 366, 15684, 19871, 281, 5258, 257, 731, 12, 17227, 2001, 3209, 13, 50615], 'temperature': 0.0, 'avg_logprob': -0.19472086429595947, 'compression_ratio': 1.5876288659793814, 'no_speech_prob': 0.0008482123375870287}, {'id': 46, 'seek': 17520, 'start': 180.2, 'end': 183.2, 'text': ' So, where is deep learning applied?', 'tokens': [50615, 407, 11, 689, 307, 2452, 2539, 6456, 30, 50765], 'temperature': 0.0, 'avg_logprob': -0.19472086429595947, 'compression_ratio': 1.5876288659793814, 'no_speech_prob': 0.0008482123375870287}, {'id': 47, 'seek': 17520, 'start': 183.2, 'end': 184.2, 'text': ' In customer support.', 'tokens': [50765, 682, 5474, 1406, 13, 50815], 'temperature': 0.0, 'avg_logprob': -0.19472086429595947, 'compression_ratio': 1.5876288659793814, 'no_speech_prob': 0.0008482123375870287}, {'id': 48, 'seek': 17520, 'start': 184.2, 'end': 187.2, 'text': ' When most people converse with customer support agents,', 'tokens': [50815, 1133, 881, 561, 416, 4308, 365, 5474, 1406, 12554, 11, 50965], 'temperature': 0.0, 'avg_logprob': -0.19472086429595947, 'compression_ratio': 1.5876288659793814, 'no_speech_prob': 0.0008482123375870287}, {'id': 49, 'seek': 17520, 'start': 187.2, 'end': 193.2, 'text': \" the conversation seems so real, they don't even realize that it's actually a bot on the other side.\", 'tokens': [50965, 264, 3761, 2544, 370, 957, 11, 436, 500, 380, 754, 4325, 300, 309, 311, 767, 257, 10592, 322, 264, 661, 1252, 13, 51265], 'temperature': 0.0, 'avg_logprob': -0.19472086429595947, 'compression_ratio': 1.5876288659793814, 'no_speech_prob': 0.0008482123375870287}, {'id': 50, 'seek': 17520, 'start': 193.2, 'end': 200.2, 'text': ' In medical care, neural networks detect cancer cells and analyze MRI images to give detailed results.', 'tokens': [51265, 682, 4625, 1127, 11, 18161, 9590, 5531, 5592, 5438, 293, 12477, 32812, 5267, 281, 976, 9942, 3542, 13, 51615], 'temperature': 0.0, 'avg_logprob': -0.19472086429595947, 'compression_ratio': 1.5876288659793814, 'no_speech_prob': 0.0008482123375870287}, {'id': 51, 'seek': 17520, 'start': 200.2, 'end': 202.2, 'text': ' Self-driving cars.', 'tokens': [51615, 16348, 12, 47094, 5163, 13, 51715], 'temperature': 0.0, 'avg_logprob': -0.19472086429595947, 'compression_ratio': 1.5876288659793814, 'no_speech_prob': 0.0008482123375870287}, {'id': 52, 'seek': 17520, 'start': 202.2, 'end': 204.2, 'text': ' What seemed like science fiction,', 'tokens': [51715, 708, 6576, 411, 3497, 13266, 11, 51815], 'temperature': 0.0, 'avg_logprob': -0.19472086429595947, 'compression_ratio': 1.5876288659793814, 'no_speech_prob': 0.0008482123375870287}, {'id': 53, 'seek': 17520, 'start': 204.2, 'end': 205.2, 'text': ' is now real.', 'tokens': [51815, 307, 586, 957, 13, 51865], 'temperature': 0.0, 'avg_logprob': -0.19472086429595947, 'compression_ratio': 1.5876288659793814, 'no_speech_prob': 0.0008482123375870287}, {'id': 54, 'seek': 20520, 'start': 205.2, 'end': 212.2, 'text': ' Apple, Tesla, and Nissan are only a few of the companies working on self-driving cars.', 'tokens': [50365, 6373, 11, 13666, 11, 293, 38166, 366, 787, 257, 1326, 295, 264, 3431, 1364, 322, 2698, 12, 47094, 5163, 13, 50715], 'temperature': 0.0, 'avg_logprob': -0.0713032101272443, 'compression_ratio': 1.585820895522388, 'no_speech_prob': 0.000612514209933579}, {'id': 55, 'seek': 20520, 'start': 212.2, 'end': 215.2, 'text': ' So, deep learning has a vast scope.', 'tokens': [50715, 407, 11, 2452, 2539, 575, 257, 8369, 11923, 13, 50865], 'temperature': 0.0, 'avg_logprob': -0.0713032101272443, 'compression_ratio': 1.585820895522388, 'no_speech_prob': 0.000612514209933579}, {'id': 56, 'seek': 20520, 'start': 215.2, 'end': 218.2, 'text': ' But it too faces some limitations.', 'tokens': [50865, 583, 309, 886, 8475, 512, 15705, 13, 51015], 'temperature': 0.0, 'avg_logprob': -0.0713032101272443, 'compression_ratio': 1.585820895522388, 'no_speech_prob': 0.000612514209933579}, {'id': 57, 'seek': 20520, 'start': 218.2, 'end': 221.2, 'text': ' The first, as we discussed earlier, is data.', 'tokens': [51015, 440, 700, 11, 382, 321, 7152, 3071, 11, 307, 1412, 13, 51165], 'temperature': 0.0, 'avg_logprob': -0.0713032101272443, 'compression_ratio': 1.585820895522388, 'no_speech_prob': 0.000612514209933579}, {'id': 58, 'seek': 20520, 'start': 221.2, 'end': 225.2, 'text': ' While deep learning is the most efficient way to deal with unstructured data,', 'tokens': [51165, 3987, 2452, 2539, 307, 264, 881, 7148, 636, 281, 2028, 365, 18799, 46847, 1412, 11, 51365], 'temperature': 0.0, 'avg_logprob': -0.0713032101272443, 'compression_ratio': 1.585820895522388, 'no_speech_prob': 0.000612514209933579}, {'id': 59, 'seek': 20520, 'start': 225.2, 'end': 229.2, 'text': ' a neural network requires a massive volume of data to train.', 'tokens': [51365, 257, 18161, 3209, 7029, 257, 5994, 5523, 295, 1412, 281, 3847, 13, 51565], 'temperature': 0.0, 'avg_logprob': -0.0713032101272443, 'compression_ratio': 1.585820895522388, 'no_speech_prob': 0.000612514209933579}, {'id': 60, 'seek': 20520, 'start': 229.2, 'end': 233.2, 'text': \" Let's assume we always have access to the necessary amount of data.\", 'tokens': [51565, 961, 311, 6552, 321, 1009, 362, 2105, 281, 264, 4818, 2372, 295, 1412, 13, 51765], 'temperature': 0.0, 'avg_logprob': -0.0713032101272443, 'compression_ratio': 1.585820895522388, 'no_speech_prob': 0.000612514209933579}, {'id': 61, 'seek': 20520, 'start': 233.2, 'end': 234.2, 'text': ' Processing this', 'tokens': [51765, 31093, 278, 341, 51815], 'temperature': 0.0, 'avg_logprob': -0.0713032101272443, 'compression_ratio': 1.585820895522388, 'no_speech_prob': 0.000612514209933579}, {'id': 62, 'seek': 23420, 'start': 234.2, 'end': 237.2, 'text': ' is not within the capability of every machine.', 'tokens': [50365, 307, 406, 1951, 264, 13759, 295, 633, 3479, 13, 50515], 'temperature': 0.0, 'avg_logprob': -0.06566110941079947, 'compression_ratio': 1.619607843137255, 'no_speech_prob': 0.000766422541346401}, {'id': 63, 'seek': 23420, 'start': 237.2, 'end': 240.2, 'text': ' And that brings us to our second limitation.', 'tokens': [50515, 400, 300, 5607, 505, 281, 527, 1150, 27432, 13, 50665], 'temperature': 0.0, 'avg_logprob': -0.06566110941079947, 'compression_ratio': 1.619607843137255, 'no_speech_prob': 0.000766422541346401}, {'id': 64, 'seek': 23420, 'start': 240.2, 'end': 242.2, 'text': ' Computational power.', 'tokens': [50665, 37804, 1478, 1347, 13, 50765], 'temperature': 0.0, 'avg_logprob': -0.06566110941079947, 'compression_ratio': 1.619607843137255, 'no_speech_prob': 0.000766422541346401}, {'id': 65, 'seek': 23420, 'start': 242.2, 'end': 246.2, 'text': ' Training a neural network requires graphical processing units,', 'tokens': [50765, 20620, 257, 18161, 3209, 7029, 35942, 9007, 6815, 11, 50965], 'temperature': 0.0, 'avg_logprob': -0.06566110941079947, 'compression_ratio': 1.619607843137255, 'no_speech_prob': 0.000766422541346401}, {'id': 66, 'seek': 23420, 'start': 246.2, 'end': 250.2, 'text': ' which have thousands of cores, as compared to CPUs.', 'tokens': [50965, 597, 362, 5383, 295, 24826, 11, 382, 5347, 281, 13199, 82, 13, 51165], 'temperature': 0.0, 'avg_logprob': -0.06566110941079947, 'compression_ratio': 1.619607843137255, 'no_speech_prob': 0.000766422541346401}, {'id': 67, 'seek': 23420, 'start': 250.2, 'end': 254.2, 'text': ' And GPUs are, of course, more expensive.', 'tokens': [51165, 400, 18407, 82, 366, 11, 295, 1164, 11, 544, 5124, 13, 51365], 'temperature': 0.0, 'avg_logprob': -0.06566110941079947, 'compression_ratio': 1.619607843137255, 'no_speech_prob': 0.000766422541346401}, {'id': 68, 'seek': 23420, 'start': 254.2, 'end': 257.2, 'text': ' And finally, we come down to training time.', 'tokens': [51365, 400, 2721, 11, 321, 808, 760, 281, 3097, 565, 13, 51515], 'temperature': 0.0, 'avg_logprob': -0.06566110941079947, 'compression_ratio': 1.619607843137255, 'no_speech_prob': 0.000766422541346401}, {'id': 69, 'seek': 23420, 'start': 257.2, 'end': 261.2, 'text': ' Deep neural networks take hours or even months to train.', 'tokens': [51515, 14895, 18161, 9590, 747, 2496, 420, 754, 2493, 281, 3847, 13, 51715], 'temperature': 0.0, 'avg_logprob': -0.06566110941079947, 'compression_ratio': 1.619607843137255, 'no_speech_prob': 0.000766422541346401}, {'id': 70, 'seek': 23420, 'start': 261.2, 'end': 263.2, 'text': ' The time increases with the amount of data,', 'tokens': [51715, 440, 565, 8637, 365, 264, 2372, 295, 1412, 11, 51815], 'temperature': 0.0, 'avg_logprob': -0.06566110941079947, 'compression_ratio': 1.619607843137255, 'no_speech_prob': 0.000766422541346401}, {'id': 71, 'seek': 26320, 'start': 263.2, 'end': 266.2, 'text': ' and number of layers in the network.', 'tokens': [50365, 293, 1230, 295, 7914, 294, 264, 3209, 13, 50515], 'temperature': 0.0, 'avg_logprob': -0.05685156158038548, 'compression_ratio': 1.6294820717131475, 'no_speech_prob': 0.005410928279161453}, {'id': 72, 'seek': 26320, 'start': 266.2, 'end': 268.2, 'text': \" So, here's a short quiz for you.\", 'tokens': [50515, 407, 11, 510, 311, 257, 2099, 15450, 337, 291, 13, 50615], 'temperature': 0.0, 'avg_logprob': -0.05685156158038548, 'compression_ratio': 1.6294820717131475, 'no_speech_prob': 0.005410928279161453}, {'id': 73, 'seek': 26320, 'start': 268.2, 'end': 273.2, 'text': ' Arrange the following statements in order to describe the working of a neural network.', 'tokens': [50615, 1587, 14521, 264, 3480, 12363, 294, 1668, 281, 6786, 264, 1364, 295, 257, 18161, 3209, 13, 50865], 'temperature': 0.0, 'avg_logprob': -0.05685156158038548, 'compression_ratio': 1.6294820717131475, 'no_speech_prob': 0.005410928279161453}, {'id': 74, 'seek': 26320, 'start': 273.2, 'end': 275.2, 'text': ' A. The bias is added.', 'tokens': [50865, 316, 13, 440, 12577, 307, 3869, 13, 50965], 'temperature': 0.0, 'avg_logprob': -0.05685156158038548, 'compression_ratio': 1.6294820717131475, 'no_speech_prob': 0.005410928279161453}, {'id': 75, 'seek': 26320, 'start': 275.2, 'end': 279.2, 'text': ' B. The weighted sum of the inputs is calculated.', 'tokens': [50965, 363, 13, 440, 32807, 2408, 295, 264, 15743, 307, 15598, 13, 51165], 'temperature': 0.0, 'avg_logprob': -0.05685156158038548, 'compression_ratio': 1.6294820717131475, 'no_speech_prob': 0.005410928279161453}, {'id': 76, 'seek': 26320, 'start': 279.2, 'end': 282.2, 'text': ' C. Specific neuron is activated.', 'tokens': [51165, 383, 13, 20484, 1089, 34090, 307, 18157, 13, 51315], 'temperature': 0.0, 'avg_logprob': -0.05685156158038548, 'compression_ratio': 1.6294820717131475, 'no_speech_prob': 0.005410928279161453}, {'id': 77, 'seek': 26320, 'start': 282.2, 'end': 286.2, 'text': ' D. The result is fed to an activation function.', 'tokens': [51315, 413, 13, 440, 1874, 307, 4636, 281, 364, 24433, 2445, 13, 51515], 'temperature': 0.0, 'avg_logprob': -0.05685156158038548, 'compression_ratio': 1.6294820717131475, 'no_speech_prob': 0.005410928279161453}, {'id': 78, 'seek': 26320, 'start': 286.2, 'end': 289.2, 'text': ' Leave your answers in the comment section below.', 'tokens': [51515, 9825, 428, 6338, 294, 264, 2871, 3541, 2507, 13, 51665], 'temperature': 0.0, 'avg_logprob': -0.05685156158038548, 'compression_ratio': 1.6294820717131475, 'no_speech_prob': 0.005410928279161453}, {'id': 79, 'seek': 26320, 'start': 289.2, 'end': 292.2, 'text': ' Three of you stand a chance to win Amazon vouchers.', 'tokens': [51665, 6244, 295, 291, 1463, 257, 2931, 281, 1942, 6795, 31007, 433, 13, 51815], 'temperature': 0.0, 'avg_logprob': -0.05685156158038548, 'compression_ratio': 1.6294820717131475, 'no_speech_prob': 0.005410928279161453}, {'id': 80, 'seek': 29220, 'start': 292.2, 'end': 293.2, 'text': ' So hurry!', 'tokens': [50365, 407, 11025, 0, 50415], 'temperature': 0.0, 'avg_logprob': -0.08021985382592979, 'compression_ratio': 1.5972696245733788, 'no_speech_prob': 0.037288565188646317}, {'id': 81, 'seek': 29220, 'start': 293.2, 'end': 295.2, 'text': ' Some of the popular deep learning frameworks include', 'tokens': [50415, 2188, 295, 264, 3743, 2452, 2539, 29834, 4090, 50515], 'temperature': 0.0, 'avg_logprob': -0.08021985382592979, 'compression_ratio': 1.5972696245733788, 'no_speech_prob': 0.037288565188646317}, {'id': 82, 'seek': 29220, 'start': 295.2, 'end': 302.2, 'text': ' TensorFlow, PyTorch, Keras, Deep Learning 4J, Cafe, and Microsoft Cognitive Toolkit.', 'tokens': [50515, 37624, 11, 9953, 51, 284, 339, 11, 591, 6985, 11, 14895, 15205, 1017, 41, 11, 35864, 11, 293, 8116, 383, 2912, 2187, 15934, 22681, 13, 50865], 'temperature': 0.0, 'avg_logprob': -0.08021985382592979, 'compression_ratio': 1.5972696245733788, 'no_speech_prob': 0.037288565188646317}, {'id': 83, 'seek': 29220, 'start': 302.2, 'end': 306.2, 'text': ' Considering the future predictions for deep learning and AI,', 'tokens': [50865, 33854, 264, 2027, 21264, 337, 2452, 2539, 293, 7318, 11, 51065], 'temperature': 0.0, 'avg_logprob': -0.08021985382592979, 'compression_ratio': 1.5972696245733788, 'no_speech_prob': 0.037288565188646317}, {'id': 84, 'seek': 29220, 'start': 306.2, 'end': 308.2, 'text': ' we seem to have only scratched the surface.', 'tokens': [51065, 321, 1643, 281, 362, 787, 40513, 264, 3753, 13, 51165], 'temperature': 0.0, 'avg_logprob': -0.08021985382592979, 'compression_ratio': 1.5972696245733788, 'no_speech_prob': 0.037288565188646317}, {'id': 85, 'seek': 29220, 'start': 308.2, 'end': 312.2, 'text': ' In fact, Horace Technology is working on a device for the blind', 'tokens': [51165, 682, 1186, 11, 10691, 617, 15037, 307, 1364, 322, 257, 4302, 337, 264, 6865, 51365], 'temperature': 0.0, 'avg_logprob': -0.08021985382592979, 'compression_ratio': 1.5972696245733788, 'no_speech_prob': 0.037288565188646317}, {'id': 86, 'seek': 29220, 'start': 312.2, 'end': 317.2, 'text': ' that uses deep learning with computer vision to describe the world to the users.', 'tokens': [51365, 300, 4960, 2452, 2539, 365, 3820, 5201, 281, 6786, 264, 1002, 281, 264, 5022, 13, 51615], 'temperature': 0.0, 'avg_logprob': -0.08021985382592979, 'compression_ratio': 1.5972696245733788, 'no_speech_prob': 0.037288565188646317}, {'id': 87, 'seek': 29220, 'start': 317.2, 'end': 320.2, 'text': ' Replicating the human mind at the entirety', 'tokens': [51615, 1300, 4770, 990, 264, 1952, 1575, 412, 264, 31557, 51765], 'temperature': 0.0, 'avg_logprob': -0.08021985382592979, 'compression_ratio': 1.5972696245733788, 'no_speech_prob': 0.037288565188646317}, {'id': 88, 'seek': 29220, 'start': 320.2, 'end': 322.2, 'text': ' may be not just an episode,', 'tokens': [51765, 815, 312, 406, 445, 364, 3500, 11, 51865], 'temperature': 0.0, 'avg_logprob': -0.08021985382592979, 'compression_ratio': 1.5972696245733788, 'no_speech_prob': 0.037288565188646317}, {'id': 89, 'seek': 32220, 'start': 322.2, 'end': 324.2, 'text': ' but a whole new world of science fiction.', 'tokens': [50365, 457, 257, 1379, 777, 1002, 295, 3497, 13266, 13, 50465], 'temperature': 0.0, 'avg_logprob': -0.2355432045168993, 'compression_ratio': 1.505050505050505, 'no_speech_prob': 0.00048540986608713865}, {'id': 90, 'seek': 32220, 'start': 324.2, 'end': 327.2, 'text': ' The future is indeed full of surprises.', 'tokens': [50465, 440, 2027, 307, 6451, 1577, 295, 22655, 13, 50615], 'temperature': 0.0, 'avg_logprob': -0.2355432045168993, 'compression_ratio': 1.505050505050505, 'no_speech_prob': 0.00048540986608713865}, {'id': 91, 'seek': 32220, 'start': 327.2, 'end': 330.2, 'text': ' And that is deep learning for you in short.', 'tokens': [50615, 400, 300, 307, 2452, 2539, 337, 291, 294, 2099, 13, 50765], 'temperature': 0.0, 'avg_logprob': -0.2355432045168993, 'compression_ratio': 1.505050505050505, 'no_speech_prob': 0.00048540986608713865}, {'id': 92, 'seek': 32220, 'start': 330.2, 'end': 333.2, 'text': ' If you enjoyed this video, do like and share it.', 'tokens': [50765, 759, 291, 4626, 341, 960, 11, 360, 411, 293, 2073, 309, 13, 50915], 'temperature': 0.0, 'avg_logprob': -0.2355432045168993, 'compression_ratio': 1.505050505050505, 'no_speech_prob': 0.00048540986608713865}, {'id': 93, 'seek': 32220, 'start': 333.2, 'end': 336.2, 'text': \" Also, subscribe to our channel if you haven't yet,\", 'tokens': [50915, 2743, 11, 3022, 281, 527, 2269, 498, 291, 2378, 380, 1939, 11, 51065], 'temperature': 0.0, 'avg_logprob': -0.2355432045168993, 'compression_ratio': 1.505050505050505, 'no_speech_prob': 0.00048540986608713865}, {'id': 94, 'seek': 32220, 'start': 336.2, 'end': 339.2, 'text': ' as we have a lot more exciting videos coming up.', 'tokens': [51065, 382, 321, 362, 257, 688, 544, 4670, 2145, 1348, 493, 13, 51215], 'temperature': 0.0, 'avg_logprob': -0.2355432045168993, 'compression_ratio': 1.505050505050505, 'no_speech_prob': 0.00048540986608713865}, {'id': 95, 'seek': 32220, 'start': 339.2, 'end': 341.2, 'text': ' Fun learning till then!', 'tokens': [51215, 11166, 2539, 4288, 550, 0, 51315], 'temperature': 0.0, 'avg_logprob': -0.2355432045168993, 'compression_ratio': 1.505050505050505, 'no_speech_prob': 0.00048540986608713865}], 'language': 'en'}\n"
          ]
        }
      ],
      "source": [
        "print(text)"
      ]
    },
    {
      "cell_type": "code",
      "source": [
        "text['text']\n"
      ],
      "metadata": {
        "colab": {
          "base_uri": "https://localhost:8080/",
          "height": 689
        },
        "id": "zjr7QZMekWG6",
        "outputId": "ed787bb5-d0bd-4557-ebb3-aabd91587d8c"
      },
      "id": "zjr7QZMekWG6",
      "execution_count": null,
      "outputs": [
        {
          "output_type": "execute_result",
          "data": {
            "text/plain": [
              "\" Ever wondered how Google translates an entire web page to a different language in a matter of seconds? Or your phone gallery groups images based on their location? All of this is a product of deep learning. But, what exactly is deep learning? Deep learning is a subset of machine learning, which in turn is a subset of artificial intelligence. Artificial intelligence is a technique that enables a machine to mimic human behavior. Machine learning is a technique to achieve AI through algorithms trained with data. And, finally, deep learning is a type of machine learning inspired by the structure of the human brain. In terms of deep learning, this structure is called an artificial neural network. Let's understand deep learning better and how it's different from machine learning. Say we create a machine that could differentiate between tomatoes and cherries. If done using machine learning, we'd have to tell the machine the features based on the structure of the human brain. Based on which the two can be differentiated. These features could be the size and the type of stem on them. With deep learning, on the other hand, the features are picked out by the neural network without human intervention. Of course, that kind of independence comes at the cost of having a much higher volume of data to train our machine. Now, let's dive into the working of neural networks. Here, we have three students. Each of them write down the digit 9 on a piece of paper. Notably, they don't all write it identically. The human brain can easily recognize the digits. But, what if a computer had to recognize them? That's where deep learning comes in. Here's a neural network trained to identify handwritten digits. Each number is present as an image of 28 times 28 pixels. Now, that amounts to a total of 784 pixels. Neurons, the core entity of a neural network, is where the information processing takes place. Each of the 784 pixels is fed to a neuron in the first layer of our neural network. This forms the input layer. On the other end, we have the output layer with each neuron representing a digit with the hidden layers existing between them. The information is transferred from one layer to another over connecting channels. Each of these has a value attached to it and hence is called a weighted channel. All neurons have a unique number associated with it. Called bias. This bias is added to the weighted sum of inputs reaching the neuron. Which is then applied to a function known as the activation function. The result of the activation function determines if the neuron gets activated. Every activated neuron passes on information to the following layers. This continues up till the second last layer. The one neuron activated in the output layer corresponds to the input digit. The weights and bias are continuously adjusted to produce a well-trained network. So, where is deep learning applied? In customer support. When most people converse with customer support agents, the conversation seems so real, they don't even realize that it's actually a bot on the other side. In medical care, neural networks detect cancer cells and analyze MRI images to give detailed results. Self-driving cars. What seemed like science fiction, is now real. Apple, Tesla, and Nissan are only a few of the companies working on self-driving cars. So, deep learning has a vast scope. But it too faces some limitations. The first, as we discussed earlier, is data. While deep learning is the most efficient way to deal with unstructured data, a neural network requires a massive volume of data to train. Let's assume we always have access to the necessary amount of data. Processing this is not within the capability of every machine. And that brings us to our second limitation. Computational power. Training a neural network requires graphical processing units, which have thousands of cores, as compared to CPUs. And GPUs are, of course, more expensive. And finally, we come down to training time. Deep neural networks take hours or even months to train. The time increases with the amount of data, and number of layers in the network. So, here's a short quiz for you. Arrange the following statements in order to describe the working of a neural network. A. The bias is added. B. The weighted sum of the inputs is calculated. C. Specific neuron is activated. D. The result is fed to an activation function. Leave your answers in the comment section below. Three of you stand a chance to win Amazon vouchers. So hurry! Some of the popular deep learning frameworks include TensorFlow, PyTorch, Keras, Deep Learning 4J, Cafe, and Microsoft Cognitive Toolkit. Considering the future predictions for deep learning and AI, we seem to have only scratched the surface. In fact, Horace Technology is working on a device for the blind that uses deep learning with computer vision to describe the world to the users. Replicating the human mind at the entirety may be not just an episode, but a whole new world of science fiction. The future is indeed full of surprises. And that is deep learning for you in short. If you enjoyed this video, do like and share it. Also, subscribe to our channel if you haven't yet, as we have a lot more exciting videos coming up. Fun learning till then!\""
            ],
            "application/vnd.google.colaboratory.intrinsic+json": {
              "type": "string"
            }
          },
          "metadata": {},
          "execution_count": 24
        }
      ]
    },
    {
      "cell_type": "code",
      "source": [
        "video2='https://www.youtube.com/watch?v=53t3Rl-Jm2Y'\n",
        "data2=pytube.YouTube(video2)\n",
        "audio2=data2.streams.get_audio_only()"
      ],
      "metadata": {
        "id": "bBWtd4yxhxTY"
      },
      "id": "bBWtd4yxhxTY",
      "execution_count": null,
      "outputs": []
    },
    {
      "cell_type": "code",
      "source": [
        "audio2.download()"
      ],
      "metadata": {
        "colab": {
          "base_uri": "https://localhost:8080/",
          "height": 36
        },
        "id": "QChxbxEFrILA",
        "outputId": "772051c0-8b27-4866-a916-e5ab3ead50f9"
      },
      "id": "QChxbxEFrILA",
      "execution_count": null,
      "outputs": [
        {
          "output_type": "execute_result",
          "data": {
            "text/plain": [
              "'/content/Yapay zekayla ikinci beyin Notion Q&A.mp4'"
            ],
            "application/vnd.google.colaboratory.intrinsic+json": {
              "type": "string"
            }
          },
          "metadata": {},
          "execution_count": 26
        }
      ]
    },
    {
      "cell_type": "code",
      "source": [
        "text=model.transcribe('/content/Yapay zekayla ikinci beyin Notion Q&A.mp4')"
      ],
      "metadata": {
        "colab": {
          "base_uri": "https://localhost:8080/"
        },
        "id": "ROJwYgaukQGW",
        "outputId": "c418e6ca-18f6-4123-9ddc-f4c48257fb6f"
      },
      "id": "ROJwYgaukQGW",
      "execution_count": null,
      "outputs": [
        {
          "metadata": {
            "tags": null
          },
          "name": "stderr",
          "output_type": "stream",
          "text": [
            "/usr/local/lib/python3.10/dist-packages/whisper/transcribe.py:126: UserWarning: FP16 is not supported on CPU; using FP32 instead\n",
            "  warnings.warn(\"FP16 is not supported on CPU; using FP32 instead\")\n"
          ]
        }
      ]
    }
  ],
  "metadata": {
    "kernelspec": {
      "display_name": "Python 3 (ipykernel)",
      "language": "python",
      "name": "python3"
    },
    "language_info": {
      "codemirror_mode": {
        "name": "ipython",
        "version": 3
      },
      "file_extension": ".py",
      "mimetype": "text/x-python",
      "name": "python",
      "nbconvert_exporter": "python",
      "pygments_lexer": "ipython3",
      "version": "3.11.5"
    },
    "colab": {
      "provenance": []
    }
  },
  "nbformat": 4,
  "nbformat_minor": 5
}